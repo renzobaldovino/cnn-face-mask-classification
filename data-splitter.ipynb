{
 "cells": [
  {
   "cell_type": "code",
   "execution_count": 1,
   "metadata": {},
   "outputs": [],
   "source": [
    "import os\n",
    "from sklearn.model_selection import train_test_split\n",
    "import shutil"
   ]
  },
  {
   "cell_type": "code",
   "execution_count": 2,
   "metadata": {},
   "outputs": [
    {
     "data": {
      "text/plain": [
       "(3062, 766)"
      ]
     },
     "execution_count": 2,
     "metadata": {},
     "output_type": "execute_result"
    }
   ],
   "source": [
    "# split the data directory into train and test directories\n",
    "def split_data(SOURCE, TRAINING, TESTING, SPLIT_SIZE):\n",
    "    # get the list of all files in the directory\n",
    "    list_of_files = os.listdir(SOURCE)\n",
    "    # split the list of files into training and testing\n",
    "    train, test = train_test_split(list_of_files, test_size=SPLIT_SIZE, random_state=42)\n",
    "    # check if training and testing directory exist\n",
    "    if not os.path.exists(TRAINING):\n",
    "        # create the training directory\n",
    "        os.makedirs(TRAINING)\n",
    "    if not os.path.exists(TESTING):\n",
    "        os.makedirs(TESTING)\n",
    "    # copy the training files into the training directory\n",
    "    for file in train:\n",
    "        src = os.path.join(SOURCE, file)\n",
    "        dst = os.path.join(TRAINING, file)\n",
    "        shutil.copyfile(src, dst)\n",
    "    # copy the testing files into the testing directory\n",
    "    for file in test:\n",
    "        src = os.path.join(SOURCE, file)\n",
    "        dst = os.path.join(TESTING, file)\n",
    "        shutil.copyfile(src, dst)\n",
    "    # return the number of training and testing files\n",
    "    return len(train), len(test)\n",
    "split_data(\"data/with_mask\", \"data/train/with_mask\", \"data/test/with_mask\", 0.2)\n",
    "split_data(\"data/without_mask\", \"data/train/without_mask\", \"data/test/without_mask\", 0.2)"
   ]
  }
 ],
 "metadata": {
  "kernelspec": {
   "display_name": "Python 3",
   "language": "python",
   "name": "python3"
  },
  "language_info": {
   "codemirror_mode": {
    "name": "ipython",
    "version": 3
   },
   "file_extension": ".py",
   "mimetype": "text/x-python",
   "name": "python",
   "nbconvert_exporter": "python",
   "pygments_lexer": "ipython3",
   "version": "3.10.2"
  },
  "orig_nbformat": 4,
  "vscode": {
   "interpreter": {
    "hash": "58837b1b657ea91009af8409fc244ae3b5ccf93ea980d6fb6b80adc5f697f4cc"
   }
  }
 },
 "nbformat": 4,
 "nbformat_minor": 2
}
