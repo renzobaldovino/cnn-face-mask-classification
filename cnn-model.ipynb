{
 "cells": [
  {
   "cell_type": "code",
   "execution_count": 7,
   "metadata": {},
   "outputs": [],
   "source": [
    "import numpy as np\n",
    "import pandas as pd\n",
    "import os\n",
    "from sklearn.model_selection import train_test_split\n",
    "import shutil\n",
    "from tensorflow.keras.models import load_model\n",
    "from tensorflow.keras.preprocessing.image import ImageDataGenerator\n",
    "import keras\n",
    "from tensorflow.keras import layers"
   ]
  },
  {
   "cell_type": "code",
   "execution_count": 3,
   "metadata": {},
   "outputs": [],
   "source": [
    "\n",
    "train_datagen = ImageDataGenerator(rescale = 1./255,\n",
    "                                   shear_range = 0.2,\n",
    "                                   zoom_range = 0.2,\n",
    "                                   horizontal_flip = True)\n",
    "test_datagen = ImageDataGenerator(rescale = 1./255,\n",
    "                                   shear_range = 0.2,\n",
    "                                   zoom_range = 0.2,\n",
    "                                   horizontal_flip = True)\n",
    "\n",
    "\n",
    "model = keras.Sequential()\n",
    "\n",
    "model.add(layers.Conv2D(32, (3, 3), activation='relu', input_shape=(224, 224, 3)))\n",
    "model.add(layers.MaxPooling2D((2, 2)))\n",
    "\n",
    "model.add(layers.Conv2D(64, (3, 3), activation='relu'))\n",
    "model.add(layers.MaxPooling2D((2, 2)))\n",
    "\n",
    "model.add(layers.Conv2D(128, (3, 3), activation='relu'))\n",
    "model.add(layers.MaxPooling2D((2, 2)))\n",
    "\n",
    "model.add(layers.Flatten())\n",
    "\n",
    "model.add(layers.Dense(512, activation='relu'))\n",
    "model.add(layers.Dense(2, activation='softmax'))\n",
    "\n",
    "\n"
   ]
  },
  {
   "cell_type": "code",
   "execution_count": 4,
   "metadata": {},
   "outputs": [
    {
     "name": "stdout",
     "output_type": "stream",
     "text": [
      "Found 6042 images belonging to 2 classes.\n",
      "Found 1511 images belonging to 2 classes.\n"
     ]
    }
   ],
   "source": [
    "training_iterator = train_datagen.flow_from_directory('data/train',batch_size=32, target_size=(224, 224), class_mode='categorical')\n",
    "test_iterator = test_datagen.flow_from_directory('data/test',batch_size=32, target_size=(224, 224), class_mode='categorical')"
   ]
  },
  {
   "cell_type": "code",
   "execution_count": 29,
   "metadata": {},
   "outputs": [
    {
     "name": "stdout",
     "output_type": "stream",
     "text": [
      "Epoch 1/20\n",
      " 20/189 [==>...........................] - ETA: 5:04 - loss: 1.5991 - accuracy: 0.6031"
     ]
    },
    {
     "name": "stderr",
     "output_type": "stream",
     "text": [
      "C:\\Users\\blank\\AppData\\Roaming\\Python\\Python310\\site-packages\\PIL\\Image.py:959: UserWarning: Palette images with Transparency expressed in bytes should be converted to RGBA images\n",
      "  warnings.warn(\n"
     ]
    },
    {
     "name": "stdout",
     "output_type": "stream",
     "text": [
      "189/189 [==============================] - 369s 2s/step - loss: 0.4445 - accuracy: 0.8464 - val_loss: 0.7230 - val_accuracy: 0.7578\n",
      "Epoch 2/20\n",
      "189/189 [==============================] - 309s 2s/step - loss: 0.2819 - accuracy: 0.8848 - val_loss: 0.2465 - val_accuracy: 0.8954\n",
      "Epoch 3/20\n",
      "189/189 [==============================] - 317s 2s/step - loss: 0.2221 - accuracy: 0.9073 - val_loss: 0.2371 - val_accuracy: 0.9073\n",
      "Epoch 4/20\n",
      "189/189 [==============================] - 324s 2s/step - loss: 0.2099 - accuracy: 0.9144 - val_loss: 0.2128 - val_accuracy: 0.9146\n",
      "Epoch 5/20\n",
      "189/189 [==============================] - 292s 2s/step - loss: 0.1901 - accuracy: 0.9224 - val_loss: 0.2085 - val_accuracy: 0.9212\n",
      "Epoch 6/20\n",
      "189/189 [==============================] - 305s 2s/step - loss: 0.1567 - accuracy: 0.9416 - val_loss: 0.1692 - val_accuracy: 0.9411\n",
      "Epoch 7/20\n",
      "189/189 [==============================] - 296s 2s/step - loss: 0.1383 - accuracy: 0.9464 - val_loss: 0.1634 - val_accuracy: 0.9464\n",
      "Epoch 8/20\n",
      "189/189 [==============================] - 298s 2s/step - loss: 0.1157 - accuracy: 0.9565 - val_loss: 0.1447 - val_accuracy: 0.9517\n",
      "Epoch 9/20\n",
      "189/189 [==============================] - 284s 1s/step - loss: 0.1257 - accuracy: 0.9558 - val_loss: 0.1453 - val_accuracy: 0.9464\n",
      "Epoch 10/20\n",
      "189/189 [==============================] - 291s 2s/step - loss: 0.0950 - accuracy: 0.9649 - val_loss: 0.1237 - val_accuracy: 0.9557\n",
      "Epoch 11/20\n",
      "189/189 [==============================] - 309s 2s/step - loss: 0.0852 - accuracy: 0.9682 - val_loss: 0.1497 - val_accuracy: 0.9477\n",
      "Epoch 12/20\n",
      "189/189 [==============================] - 282s 1s/step - loss: 0.0814 - accuracy: 0.9705 - val_loss: 0.1331 - val_accuracy: 0.9550\n",
      "Epoch 13/20\n",
      "189/189 [==============================] - 276s 1s/step - loss: 0.0687 - accuracy: 0.9752 - val_loss: 0.1122 - val_accuracy: 0.9596\n",
      "Epoch 14/20\n",
      "189/189 [==============================] - 272s 1s/step - loss: 0.0576 - accuracy: 0.9800 - val_loss: 0.1501 - val_accuracy: 0.9504\n",
      "Epoch 15/20\n",
      "189/189 [==============================] - 280s 1s/step - loss: 0.0605 - accuracy: 0.9808 - val_loss: 0.1321 - val_accuracy: 0.9570\n",
      "Epoch 16/20\n",
      "189/189 [==============================] - 279s 1s/step - loss: 0.0499 - accuracy: 0.9806 - val_loss: 0.1614 - val_accuracy: 0.9510\n",
      "Epoch 17/20\n",
      "189/189 [==============================] - 288s 2s/step - loss: 0.0607 - accuracy: 0.9803 - val_loss: 0.1251 - val_accuracy: 0.9550\n",
      "Epoch 18/20\n",
      "189/189 [==============================] - 275s 1s/step - loss: 0.0462 - accuracy: 0.9843 - val_loss: 0.1259 - val_accuracy: 0.9610\n",
      "Epoch 19/20\n",
      "189/189 [==============================] - 271s 1s/step - loss: 0.0371 - accuracy: 0.9878 - val_loss: 0.1585 - val_accuracy: 0.9636\n",
      "Epoch 20/20\n",
      "189/189 [==============================] - 273s 1s/step - loss: 0.0608 - accuracy: 0.9791 - val_loss: 0.1299 - val_accuracy: 0.9629\n"
     ]
    }
   ],
   "source": [
    "model.compile(optimizer='adam', loss='categorical_crossentropy', metrics=['accuracy'])\n",
    "history = model.fit(training_iterator, epochs=20, validation_data=test_iterator)"
   ]
  },
  {
   "cell_type": "code",
   "execution_count": 50,
   "metadata": {},
   "outputs": [],
   "source": [
    "# get the model with the highest validation accuracy\n",
    "model.save('cnn-model.h5')"
   ]
  },
  {
   "cell_type": "code",
   "execution_count": 8,
   "metadata": {},
   "outputs": [],
   "source": [
    "#load the model\n",
    "model = load_model('cnn-model.h5')"
   ]
  },
  {
   "cell_type": "code",
   "execution_count": 11,
   "metadata": {},
   "outputs": [
    {
     "name": "stdout",
     "output_type": "stream",
     "text": [
      "189/189 [==============================] - 154s 810ms/step - loss: 0.0340 - accuracy: 0.9897\n"
     ]
    },
    {
     "data": {
      "text/plain": [
       "[0.034006986767053604, 0.9897385239601135]"
      ]
     },
     "execution_count": 11,
     "metadata": {},
     "output_type": "execute_result"
    }
   ],
   "source": [
    "#evaluate the model\n",
    "model.evaluate(training_iterator)"
   ]
  },
  {
   "cell_type": "code",
   "execution_count": 12,
   "metadata": {},
   "outputs": [
    {
     "name": "stdout",
     "output_type": "stream",
     "text": [
      "48/48 [==============================] - 18s 382ms/step - loss: 0.1364 - accuracy: 0.9649\n"
     ]
    },
    {
     "data": {
      "text/plain": [
       "[0.13639995455741882, 0.9649239182472229]"
      ]
     },
     "execution_count": 12,
     "metadata": {},
     "output_type": "execute_result"
    }
   ],
   "source": [
    "model.evaluate(test_iterator)"
   ]
  }
 ],
 "metadata": {
  "kernelspec": {
   "display_name": "Python 3",
   "language": "python",
   "name": "python3"
  },
  "language_info": {
   "codemirror_mode": {
    "name": "ipython",
    "version": 3
   },
   "file_extension": ".py",
   "mimetype": "text/x-python",
   "name": "python",
   "nbconvert_exporter": "python",
   "pygments_lexer": "ipython3",
   "version": "3.10.9 (tags/v3.10.9:1dd9be6, Dec  6 2022, 20:01:21) [MSC v.1934 64 bit (AMD64)]"
  },
  "orig_nbformat": 4,
  "vscode": {
   "interpreter": {
    "hash": "398ca642d558c2b82ffa4fe7f19fd2b7a710dc5c764432e7482c76b9d97b8798"
   }
  }
 },
 "nbformat": 4,
 "nbformat_minor": 2
}
